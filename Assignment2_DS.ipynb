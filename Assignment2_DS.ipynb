{
  "nbformat": 4,
  "nbformat_minor": 0,
  "metadata": {
    "colab": {
      "name": "Assignment2 DS",
      "provenance": [],
      "collapsed_sections": [],
      "authorship_tag": "ABX9TyP54Oh0KMR4DvBIzSmdTOqn",
      "include_colab_link": true
    },
    "kernelspec": {
      "name": "python3",
      "display_name": "Python 3"
    },
    "language_info": {
      "name": "python"
    }
  },
  "cells": [
    {
      "cell_type": "markdown",
      "metadata": {
        "id": "view-in-github",
        "colab_type": "text"
      },
      "source": [
        "<a href=\"https://colab.research.google.com/github/nayanakrishna/demo/blob/main/Assignment2_DS.ipynb\" target=\"_parent\"><img src=\"https://colab.research.google.com/assets/colab-badge.svg\" alt=\"Open In Colab\"/></a>"
      ]
    },
    {
      "cell_type": "markdown",
      "source": [
        "#Assingmnet 2 \n",
        "Create two functions which will help us to find the LCM & GCF(Greatest Common Factor) of any two numbers."
      ],
      "metadata": {
        "id": "HqXzZadel-a2"
      }
    },
    {
      "cell_type": "code",
      "source": [
        "# Python program to find the L.C.M. of two input number\n",
        "\n",
        "# This function computes GCD \n",
        "def compute_gcd(x, y):\n",
        "\n",
        "   while(y):\n",
        "       x, y = y, x % y\n",
        "   return x\n",
        "\n",
        "# This function computes LCM\n",
        "def compute_lcm(x, y):\n",
        "   lcm = (x*y)//compute_gcd(x,y)\n",
        "   return lcm\n",
        "\n",
        "num1 = int(input(\"Enter the value: \"))\n",
        "num2 = int(input(\"Enter the value: \"))\n",
        "\n",
        "print(\"The L.C.M. is\", compute_lcm(num1, num2))"
      ],
      "metadata": {
        "colab": {
          "base_uri": "https://localhost:8080/"
        },
        "id": "A6s_tMAxmDGs",
        "outputId": "395a04c7-ed53-4b9d-8345-e72221b8635d"
      },
      "execution_count": 3,
      "outputs": [
        {
          "output_type": "stream",
          "name": "stdout",
          "text": [
            "Enter the value: 54\n",
            "Enter the value: 24\n",
            "The L.C.M. is 216\n"
          ]
        }
      ]
    },
    {
      "cell_type": "code",
      "source": [
        ""
      ],
      "metadata": {
        "id": "q3vShO6Mmchq"
      },
      "execution_count": null,
      "outputs": []
    },
    {
      "cell_type": "markdown",
      "source": [
        ""
      ],
      "metadata": {
        "id": "I2uTGOcDl34_"
      }
    }
  ]
}